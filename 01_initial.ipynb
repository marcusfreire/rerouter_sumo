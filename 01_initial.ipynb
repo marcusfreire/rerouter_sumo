{
 "cells": [
  {
   "cell_type": "code",
   "execution_count": 1,
   "id": "50f691d3",
   "metadata": {
    "ExecuteTime": {
     "end_time": "2024-09-03T20:30:29.396587Z",
     "start_time": "2024-09-03T20:30:29.313771Z"
    }
   },
   "outputs": [],
   "source": [
    "import os\n",
    "import sys\n",
    "#path environment\n",
    "if 'SUMO_HOME' in os.environ:\n",
    "    tools = os.path.join(os.environ['SUMO_HOME'], 'tools')\n",
    "    sys.path.append(tools)\n",
    "else:\n",
    "    sys.exit(\"please declare environment variable 'SUMO_HOME'\")\n",
    "import traci\n",
    "\n",
    "import xml.etree.ElementTree as ET"
   ]
  },
  {
   "cell_type": "code",
   "execution_count": 2,
   "id": "0dbaf342",
   "metadata": {
    "ExecuteTime": {
     "end_time": "2024-09-03T20:24:13.647456Z",
     "start_time": "2024-09-03T20:24:13.644541Z"
    },
    "scrolled": true
   },
   "outputs": [],
   "source": [
    "sumo_cmd = ['sumo-gui', \n",
    "            '--duration-log.statistics', \n",
    "            '--tripinfo-output', 'my_output_file.xml', \n",
    "            '-c', 'maps/grid/grid.sumo.cfg']"
   ]
  },
  {
   "cell_type": "code",
   "execution_count": 3,
   "id": "6db1bc04-4b30-4ea1-8348-d99b9e30fe92",
   "metadata": {
    "ExecuteTime": {
     "end_time": "2024-09-03T20:24:16.929887Z",
     "start_time": "2024-09-03T20:24:16.924003Z"
    }
   },
   "outputs": [],
   "source": [
    "def analyze_time_loss(file_path):\n",
    "    # Parse the XML file\n",
    "    tree = ET.parse(file_path)\n",
    "    root = tree.getroot()\n",
    "\n",
    "    # Initialize variables for analysis\n",
    "    total_time_loss = 0.0\n",
    "    total_waiting_time = 0.0\n",
    "    total_duration = 0.0\n",
    "    total_reroutes = 0\n",
    "    vehicle_count = 0\n",
    "\n",
    "    # Iterate over each tripinfo element in the XML\n",
    "    for trip in root.findall('tripinfo'):\n",
    "        time_loss = float(trip.get('timeLoss'))\n",
    "        waiting_time = float(trip.get('waitingTime'))\n",
    "        duration = float(trip.get('duration'))\n",
    "        reroutes = int(trip.get('rerouteNo'))\n",
    "        \n",
    "        total_time_loss += time_loss\n",
    "        total_waiting_time += waiting_time\n",
    "        total_duration += duration\n",
    "        total_reroutes += reroutes\n",
    "        vehicle_count += 1\n",
    "\n",
    "    # Calculate averages\n",
    "    average_time_loss = total_time_loss / vehicle_count if vehicle_count > 0 else 0\n",
    "    average_waiting_time = total_waiting_time / vehicle_count if vehicle_count > 0 else 0\n",
    "    average_duration = total_duration / vehicle_count if vehicle_count > 0 else 0\n",
    "    average_reroutes = total_reroutes / vehicle_count if vehicle_count > 0 else 0\n",
    "\n",
    "    # Store results in a dictionary\n",
    "    results = {\n",
    "        'Total Vehicles': vehicle_count,\n",
    "        'Total Time Loss': total_time_loss,\n",
    "        'Average Time Loss': average_time_loss,\n",
    "        'Total Waiting Time': total_waiting_time,\n",
    "        'Average Waiting Time': average_waiting_time,\n",
    "        'Average Duration': average_duration,\n",
    "        'Total Reroutes': total_reroutes,\n",
    "        'Average Reroutes': average_reroutes\n",
    "    }\n",
    "    return results\n"
   ]
  },
  {
   "cell_type": "code",
   "execution_count": 4,
   "id": "5c5cbe8d",
   "metadata": {
    "ExecuteTime": {
     "end_time": "2024-09-03T20:24:19.728281Z",
     "start_time": "2024-09-03T20:24:16.993145Z"
    }
   },
   "outputs": [
    {
     "name": "stdout",
     "output_type": "stream",
     "text": [
      " Retrying in 1 seconds\n"
     ]
    }
   ],
   "source": [
    "# Start SUMO with TraCI support\n",
    "traci.start(sumo_cmd)\n",
    "step = 0\n",
    "while step < 3600:\n",
    "    traci.simulationStep()\n",
    "    \n",
    "    \n",
    "    step += 1\n",
    "\n",
    "traci.close()\n"
   ]
  },
  {
   "cell_type": "code",
   "execution_count": 5,
   "id": "f92d41b2-47fd-4a14-8e48-f10ce9870bfd",
   "metadata": {},
   "outputs": [],
   "source": [
    "results = analyze_time_loss('my_output_file.xml')\n"
   ]
  },
  {
   "cell_type": "code",
   "execution_count": 6,
   "id": "847fa3cf-04e6-4c1c-bff0-4de929edeb1c",
   "metadata": {},
   "outputs": [
    {
     "data": {
      "text/plain": [
       "{'Total Vehicles': 4353,\n",
       " 'Total Time Loss': 183857.10000000068,\n",
       " 'Average Time Loss': 42.23687112336335,\n",
       " 'Total Waiting Time': 83129.0,\n",
       " 'Average Waiting Time': 19.0969446358833,\n",
       " 'Average Duration': 114.82609694463588,\n",
       " 'Total Reroutes': 0,\n",
       " 'Average Reroutes': 0.0}"
      ]
     },
     "execution_count": 6,
     "metadata": {},
     "output_type": "execute_result"
    }
   ],
   "source": [
    "results"
   ]
  },
  {
   "cell_type": "code",
   "execution_count": null,
   "id": "4f26a112-29a5-457e-b8d8-85949dee1958",
   "metadata": {},
   "outputs": [],
   "source": []
  }
 ],
 "metadata": {
  "kernelspec": {
   "display_name": "Python 3 (ipykernel)",
   "language": "python",
   "name": "python3"
  },
  "language_info": {
   "codemirror_mode": {
    "name": "ipython",
    "version": 3
   },
   "file_extension": ".py",
   "mimetype": "text/x-python",
   "name": "python",
   "nbconvert_exporter": "python",
   "pygments_lexer": "ipython3",
   "version": "3.8.10"
  }
 },
 "nbformat": 4,
 "nbformat_minor": 5
}
