{
 "cells": [
  {
   "cell_type": "code",
   "id": "initial_id",
   "metadata": {
    "ExecuteTime": {
     "end_time": "2024-09-03T22:26:29.676511Z",
     "start_time": "2024-09-03T22:26:29.671769Z"
    }
   },
   "source": [
    "import os\n",
    "import subprocess"
   ],
   "outputs": [],
   "execution_count": 1
  },
  {
   "cell_type": "code",
   "id": "8f4019e4b7400ff5",
   "metadata": {
    "ExecuteTime": {
     "end_time": "2024-09-03T22:26:29.679186Z",
     "start_time": "2024-09-03T22:26:29.677244Z"
    }
   },
   "source": [
    "file_name = \"grid\"\n",
    "\n",
    "folder_name = \"grid\""
   ],
   "outputs": [],
   "execution_count": 2
  },
  {
   "metadata": {
    "ExecuteTime": {
     "end_time": "2024-09-03T22:26:29.682613Z",
     "start_time": "2024-09-03T22:26:29.680346Z"
    }
   },
   "cell_type": "code",
   "source": [
    "def create_output_directory(directory):\n",
    "    if not os.path.exists(directory):\n",
    "        os.makedirs(directory)"
   ],
   "id": "d0ad92c223987a2d",
   "outputs": [],
   "execution_count": 3
  },
  {
   "metadata": {
    "ExecuteTime": {
     "end_time": "2024-09-03T22:26:29.685352Z",
     "start_time": "2024-09-03T22:26:29.683489Z"
    }
   },
   "cell_type": "code",
   "source": "create_output_directory(folder_name)",
   "id": "4e8b80e824a3e447",
   "outputs": [],
   "execution_count": 4
  },
  {
   "cell_type": "code",
   "id": "92355e2589a7cf64",
   "metadata": {
    "ExecuteTime": {
     "end_time": "2024-09-03T22:26:29.729936Z",
     "start_time": "2024-09-03T22:26:29.686026Z"
    }
   },
   "source": [
    "netgenerate_cmd = [\n",
    "    'netgenerate',\n",
    "    '--grid',  # Tipo de rede (grade)\n",
    "    '--grid.number=5',  # Número de interseções na grade\n",
    "    '--grid.length=200',  # Comprimento das estradas em metros\n",
    "    '-o', os.path.join(folder_name, f'{file_name}.net.xml')\n",
    "]\n",
    "subprocess.run(netgenerate_cmd, check=True)"
   ],
   "outputs": [
    {
     "name": "stdout",
     "output_type": "stream",
     "text": [
      "Success.\n"
     ]
    },
    {
     "data": {
      "text/plain": [
       "CompletedProcess(args=['netgenerate', '--grid', '--grid.number=5', '--grid.length=200', '-o', 'grid/grid.net.xml'], returncode=0)"
      ]
     },
     "execution_count": 5,
     "metadata": {},
     "output_type": "execute_result"
    }
   ],
   "execution_count": 5
  },
  {
   "cell_type": "code",
   "id": "bd12122317e9ebdb",
   "metadata": {
    "ExecuteTime": {
     "end_time": "2024-09-03T22:26:29.733279Z",
     "start_time": "2024-09-03T22:26:29.730912Z"
    }
   },
   "source": [
    "# Caminho para o arquivo de rede e para o script randomTrips.py\n",
    "sumo_tools_dir = os.path.join(os.environ['SUMO_HOME'], 'tools')\n",
    "random_trips = os.path.join(sumo_tools_dir, 'randomTrips.py')\n",
    "net_file = os.path.join(folder_name, f'{file_name}.net.xml')\n",
    "route_file = os.path.join(folder_name, f'{file_name}.rou.xml')"
   ],
   "outputs": [],
   "execution_count": 6
  },
  {
   "cell_type": "code",
   "id": "7655a0add0614588",
   "metadata": {
    "ExecuteTime": {
     "end_time": "2024-09-03T22:26:29.736016Z",
     "start_time": "2024-09-03T22:26:29.734047Z"
    }
   },
   "source": [
    "# Definir os parâmetros para gerar um grande número de veículos\n",
    "num_vehicles = 4500  # Número de veículos\n",
    "begin_time = 0  # Tempo de início das rotas\n",
    "end_time = 3600  # Tempo de fim das rotas (1 hora)\n",
    "period = (end_time - begin_time) / num_vehicles"
   ],
   "outputs": [],
   "execution_count": 7
  },
  {
   "cell_type": "code",
   "id": "32bcf3e7068f3939",
   "metadata": {
    "ExecuteTime": {
     "end_time": "2024-09-03T22:26:30.124721Z",
     "start_time": "2024-09-03T22:26:29.736980Z"
    }
   },
   "source": [
    "random_trips_cmd = [\n",
    "    'python3', random_trips,\n",
    "    '-n', net_file,\n",
    "    '-r', route_file,\n",
    "    '--begin', str(begin_time),\n",
    "    '--end', str(end_time),\n",
    "    '--period', str(period),\n",
    "    '--seed', '42',\n",
    "    '--validate',\n",
    "]\n",
    "\n",
    "subprocess.run(random_trips_cmd, check=True)\n",
    "\n",
    "trips_file = 'trips.trips.xml'\n",
    "if os.path.exists(trips_file):\n",
    "    os.remove(trips_file)"
   ],
   "outputs": [
    {
     "name": "stdout",
     "output_type": "stream",
     "text": [
      "Success.\n",
      "Success.\n"
     ]
    }
   ],
   "execution_count": 8
  },
  {
   "cell_type": "code",
   "id": "9dc2850574899f70",
   "metadata": {
    "ExecuteTime": {
     "end_time": "2024-09-03T22:26:30.130202Z",
     "start_time": "2024-09-03T22:26:30.126487Z"
    }
   },
   "source": [
    "config_content = \\\n",
    "f\"\"\"<configuration>\n",
    "    <input>\n",
    "        <net-file value=\"{file_name}.net.xml\"/>\n",
    "        <route-files value=\"{file_name}.rou.xml\"/>\n",
    "    </input>\n",
    "</configuration>\n",
    "\"\"\"\n",
    "with open(os.path.join(folder_name, f'{file_name}.sumo.cfg'), 'w') as config_file:\n",
    "    config_file.write(config_content)"
   ],
   "outputs": [],
   "execution_count": 9
  },
  {
   "cell_type": "code",
   "id": "9a9f67c9e0ceeb72",
   "metadata": {
    "ExecuteTime": {
     "end_time": "2024-09-03T22:26:30.132273Z",
     "start_time": "2024-09-03T22:26:30.130940Z"
    }
   },
   "source": [],
   "outputs": [],
   "execution_count": 9
  }
 ],
 "metadata": {
  "kernelspec": {
   "display_name": "Python 3 (ipykernel)",
   "language": "python",
   "name": "python3"
  },
  "language_info": {
   "codemirror_mode": {
    "name": "ipython",
    "version": 3
   },
   "file_extension": ".py",
   "mimetype": "text/x-python",
   "name": "python",
   "nbconvert_exporter": "python",
   "pygments_lexer": "ipython3",
   "version": "3.8.10"
  }
 },
 "nbformat": 4,
 "nbformat_minor": 5
}
