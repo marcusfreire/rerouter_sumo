{
 "cells": [
  {
   "cell_type": "code",
   "execution_count": 1,
   "id": "initial_id",
   "metadata": {
    "ExecuteTime": {
     "end_time": "2024-09-05T21:58:14.726742Z",
     "start_time": "2024-09-05T21:58:14.723279Z"
    }
   },
   "outputs": [],
   "source": [
    "import os\n",
    "import subprocess"
   ]
  },
  {
   "cell_type": "code",
   "execution_count": 2,
   "id": "8f4019e4b7400ff5",
   "metadata": {
    "ExecuteTime": {
     "end_time": "2024-09-05T21:58:14.739044Z",
     "start_time": "2024-09-05T21:58:14.736150Z"
    }
   },
   "outputs": [],
   "source": [
    "file_name = \"grid\"\n",
    "\n",
    "folder_name = \"grid\""
   ]
  },
  {
   "cell_type": "code",
   "execution_count": 3,
   "id": "d0ad92c223987a2d",
   "metadata": {
    "ExecuteTime": {
     "end_time": "2024-09-05T21:58:14.742594Z",
     "start_time": "2024-09-05T21:58:14.740586Z"
    }
   },
   "outputs": [],
   "source": [
    "def create_output_directory(directory):\n",
    "    if not os.path.exists(directory):\n",
    "        os.makedirs(directory)"
   ]
  },
  {
   "cell_type": "code",
   "execution_count": 4,
   "id": "4e8b80e824a3e447",
   "metadata": {
    "ExecuteTime": {
     "end_time": "2024-09-05T21:58:14.745340Z",
     "start_time": "2024-09-05T21:58:14.743550Z"
    }
   },
   "outputs": [],
   "source": [
    "create_output_directory(folder_name)"
   ]
  },
  {
   "cell_type": "code",
   "execution_count": 5,
   "id": "92355e2589a7cf64",
   "metadata": {
    "ExecuteTime": {
     "end_time": "2024-09-05T21:58:14.825205Z",
     "start_time": "2024-09-05T21:58:14.745973Z"
    }
   },
   "outputs": [
    {
     "name": "stdout",
     "output_type": "stream",
     "text": [
      "Success.\n"
     ]
    },
    {
     "data": {
      "text/plain": [
       "CompletedProcess(args=['netgenerate', '--grid', '--grid.number=10', '--grid.length=200', '-o', 'grid/grid.net.xml'], returncode=0)"
      ]
     },
     "execution_count": 5,
     "metadata": {},
     "output_type": "execute_result"
    }
   ],
   "source": [
    "netgenerate_cmd = [\n",
    "    'netgenerate',\n",
    "    '--grid',  # Tipo de rede (grade)\n",
    "    '--grid.number=10',  # Número de interseções na grade\n",
    "    '--grid.length=200',  # Comprimento das estradas em metros\n",
    "    '-o', os.path.join(folder_name, f'{file_name}.net.xml')\n",
    "]\n",
    "subprocess.run(netgenerate_cmd, check=True)"
   ]
  },
  {
   "cell_type": "code",
   "execution_count": 6,
   "id": "bd12122317e9ebdb",
   "metadata": {
    "ExecuteTime": {
     "end_time": "2024-09-05T21:58:14.828864Z",
     "start_time": "2024-09-05T21:58:14.826154Z"
    }
   },
   "outputs": [],
   "source": [
    "# Caminho para o arquivo de rede e para o script randomTrips.py\n",
    "sumo_tools_dir = os.path.join(os.environ['SUMO_HOME'], 'tools')\n",
    "random_trips = os.path.join(sumo_tools_dir, 'randomTrips.py')\n",
    "net_file = os.path.join(folder_name, f'{file_name}.net.xml')\n",
    "route_file = os.path.join(folder_name, f'{file_name}.rou.xml')"
   ]
  },
  {
   "cell_type": "code",
   "execution_count": 7,
   "id": "7655a0add0614588",
   "metadata": {
    "ExecuteTime": {
     "end_time": "2024-09-05T21:58:14.831978Z",
     "start_time": "2024-09-05T21:58:14.830051Z"
    }
   },
   "outputs": [],
   "source": [
    "# Definir os parâmetros para gerar um grande número de veículos\n",
    "num_vehicles = 4700  # Número de veículos\n",
    "begin_time = 0  # Tempo de início das rotas\n",
    "end_time = 3600  # Tempo de fim das rotas (1 hora)\n",
    "period = (end_time - begin_time) / num_vehicles"
   ]
  },
  {
   "cell_type": "code",
   "execution_count": 18,
   "id": "32bcf3e7068f3939",
   "metadata": {
    "ExecuteTime": {
     "end_time": "2024-09-05T22:12:59.782520Z",
     "start_time": "2024-09-05T22:12:58.868461Z"
    }
   },
   "outputs": [
    {
     "name": "stdout",
     "output_type": "stream",
     "text": [
      "Success.\n",
      "Success.\n"
     ]
    },
    {
     "data": {
      "text/plain": [
       "CompletedProcess(args=['python3', '/src/sumo-1.18.0/tools/randomTrips.py', '-n', 'grid/grid.net.xml', '-r', 'grid/grid.rou.xml', '--begin', '0', '--end', '3600', '--period', '0.7659574468085106', '--seed', '42', '--validate', '--min-distance', '1700', '--fringe-factor', '15'], returncode=0)"
      ]
     },
     "execution_count": 18,
     "metadata": {},
     "output_type": "execute_result"
    }
   ],
   "source": [
    "random_trips_cmd = [\n",
    "    'python3', random_trips,\n",
    "    '-n', net_file,\n",
    "    '-r', route_file,\n",
    "    '--begin', str(begin_time),\n",
    "    '--end', str(end_time),\n",
    "    '--period', str(period),\n",
    "    '--seed', '42',\n",
    "    '--validate',\n",
    "    '--min-distance', '1700',\n",
    "    '--fringe-factor', '15',     \n",
    "]\n",
    "\n",
    "subprocess.run(random_trips_cmd, check=True)\n",
    "\n",
    "trips_file = 'trips.trips.xml'\n",
    "if os.path.exists(trips_file):\n",
    "    os.remove(trips_file)"
   ]
  },
  {
   "cell_type": "code",
   "execution_count": 9,
   "id": "9dc2850574899f70",
   "metadata": {
    "ExecuteTime": {
     "end_time": "2024-09-05T21:58:15.665111Z",
     "start_time": "2024-09-05T21:58:15.662701Z"
    }
   },
   "outputs": [],
   "source": [
    "config_content = \\\n",
    "f\"\"\"<configuration>\n",
    "    <input>\n",
    "        <net-file value=\"{file_name}.net.xml\"/>\n",
    "        <route-files value=\"{file_name}.rou.xml\"/>\n",
    "    </input>\n",
    "</configuration>\n",
    "\"\"\"\n",
    "with open(os.path.join(folder_name, f'{file_name}.sumo.cfg'), 'w') as config_file:\n",
    "    config_file.write(config_content)"
   ]
  },
  {
   "cell_type": "code",
   "execution_count": 9,
   "id": "9a9f67c9e0ceeb72",
   "metadata": {
    "ExecuteTime": {
     "end_time": "2024-09-05T21:58:15.667046Z",
     "start_time": "2024-09-05T21:58:15.665778Z"
    }
   },
   "outputs": [],
   "source": []
  }
 ],
 "metadata": {
  "kernelspec": {
   "display_name": "Python 3 (ipykernel)",
   "language": "python",
   "name": "python3"
  },
  "language_info": {
   "codemirror_mode": {
    "name": "ipython",
    "version": 3
   },
   "file_extension": ".py",
   "mimetype": "text/x-python",
   "name": "python",
   "nbconvert_exporter": "python",
   "pygments_lexer": "ipython3",
   "version": "3.8.10"
  }
 },
 "nbformat": 4,
 "nbformat_minor": 5
}
